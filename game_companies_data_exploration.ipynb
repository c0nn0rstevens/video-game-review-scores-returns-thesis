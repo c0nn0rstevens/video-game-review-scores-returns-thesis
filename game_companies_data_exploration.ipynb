{
 "cells": [
  {
   "cell_type": "code",
   "execution_count": 24,
   "metadata": {},
   "outputs": [
    {
     "data": {
      "text/html": [
       "<div>\n",
       "<style scoped>\n",
       "    .dataframe tbody tr th:only-of-type {\n",
       "        vertical-align: middle;\n",
       "    }\n",
       "\n",
       "    .dataframe tbody tr th {\n",
       "        vertical-align: top;\n",
       "    }\n",
       "\n",
       "    .dataframe thead th {\n",
       "        text-align: right;\n",
       "    }\n",
       "</style>\n",
       "<table border=\"1\" class=\"dataframe\">\n",
       "  <thead>\n",
       "    <tr style=\"text-align: right;\">\n",
       "      <th></th>\n",
       "      <th>Unnamed: 0</th>\n",
       "      <th>id</th>\n",
       "      <th>name</th>\n",
       "      <th>start_date</th>\n",
       "      <th>changed_company_id</th>\n",
       "      <th>parent</th>\n",
       "      <th>change_date</th>\n",
       "    </tr>\n",
       "  </thead>\n",
       "  <tbody>\n",
       "    <tr>\n",
       "      <th>0</th>\n",
       "      <td>0</td>\n",
       "      <td>1</td>\n",
       "      <td>Electronic Arts</td>\n",
       "      <td>3.913920e+08</td>\n",
       "      <td>5.0</td>\n",
       "      <td>NaN</td>\n",
       "      <td>NaN</td>\n",
       "    </tr>\n",
       "    <tr>\n",
       "      <th>1</th>\n",
       "      <td>1</td>\n",
       "      <td>2</td>\n",
       "      <td>BioWare</td>\n",
       "      <td>7.915968e+08</td>\n",
       "      <td>NaN</td>\n",
       "      <td>1.0</td>\n",
       "      <td>NaN</td>\n",
       "    </tr>\n",
       "    <tr>\n",
       "      <th>2</th>\n",
       "      <td>2</td>\n",
       "      <td>4</td>\n",
       "      <td>Eidos Interactive</td>\n",
       "      <td>8.335008e+08</td>\n",
       "      <td>4940.0</td>\n",
       "      <td>26.0</td>\n",
       "      <td>1.257725e+09</td>\n",
       "    </tr>\n",
       "    <tr>\n",
       "      <th>3</th>\n",
       "      <td>3</td>\n",
       "      <td>5</td>\n",
       "      <td>Interplay Entertainment</td>\n",
       "      <td>4.416768e+08</td>\n",
       "      <td>NaN</td>\n",
       "      <td>NaN</td>\n",
       "      <td>NaN</td>\n",
       "    </tr>\n",
       "    <tr>\n",
       "      <th>4</th>\n",
       "      <td>4</td>\n",
       "      <td>8</td>\n",
       "      <td>2K Games</td>\n",
       "      <td>1.106611e+09</td>\n",
       "      <td>NaN</td>\n",
       "      <td>139.0</td>\n",
       "      <td>NaN</td>\n",
       "    </tr>\n",
       "  </tbody>\n",
       "</table>\n",
       "</div>"
      ],
      "text/plain": [
       "   Unnamed: 0  id                     name    start_date  changed_company_id   \n",
       "0           0   1          Electronic Arts  3.913920e+08                 5.0  \\\n",
       "1           1   2                  BioWare  7.915968e+08                 NaN   \n",
       "2           2   4        Eidos Interactive  8.335008e+08              4940.0   \n",
       "3           3   5  Interplay Entertainment  4.416768e+08                 NaN   \n",
       "4           4   8                 2K Games  1.106611e+09                 NaN   \n",
       "\n",
       "   parent   change_date  \n",
       "0     NaN           NaN  \n",
       "1     1.0           NaN  \n",
       "2    26.0  1.257725e+09  \n",
       "3     NaN           NaN  \n",
       "4   139.0           NaN  "
      ]
     },
     "execution_count": 24,
     "metadata": {},
     "output_type": "execute_result"
    }
   ],
   "source": [
    "# First run src/data_sources/get_data.py to get the csv in your working directory.\n",
    "import pandas as pd\n",
    "\n",
    "companies_df = pd.read_csv('game_companies.csv')\n",
    "companies_df.head()"
   ]
  },
  {
   "cell_type": "code",
   "execution_count": 25,
   "metadata": {},
   "outputs": [
    {
     "data": {
      "text/plain": [
       "Unnamed: 0              int64\n",
       "id                      int64\n",
       "name                   object\n",
       "start_date            float64\n",
       "changed_company_id    float64\n",
       "parent                float64\n",
       "change_date           float64\n",
       "dtype: object"
      ]
     },
     "execution_count": 25,
     "metadata": {},
     "output_type": "execute_result"
    }
   ],
   "source": [
    "# Check the data types of the columns.\n",
    "companies_df.dtypes"
   ]
  },
  {
   "cell_type": "code",
   "execution_count": 26,
   "metadata": {},
   "outputs": [
    {
     "data": {
      "text/plain": [
       "12659"
      ]
     },
     "execution_count": 26,
     "metadata": {},
     "output_type": "execute_result"
    }
   ],
   "source": [
    "# Check how many unique companies were returned.\n",
    "companies_df['id'].nunique()"
   ]
  },
  {
   "attachments": {},
   "cell_type": "markdown",
   "metadata": {},
   "source": [
    "We see that there are 12659 unique companies that have either published or developed a video game since 1 October 2000."
   ]
  },
  {
   "cell_type": "code",
   "execution_count": 27,
   "metadata": {},
   "outputs": [
    {
     "data": {
      "text/plain": [
       "1946"
      ]
     },
     "execution_count": 27,
     "metadata": {},
     "output_type": "execute_result"
    }
   ],
   "source": [
    "# Check how many companies do not have data for start_date.\n",
    "companies_df[companies_df.start_date.notnull()].shape[0]"
   ]
  },
  {
   "attachments": {},
   "cell_type": "markdown",
   "metadata": {},
   "source": [
    "There are 1946 companies for which the founding date of the company is known."
   ]
  },
  {
   "cell_type": "code",
   "execution_count": 32,
   "metadata": {},
   "outputs": [
    {
     "data": {
      "text/plain": [
       "12166"
      ]
     },
     "execution_count": 32,
     "metadata": {},
     "output_type": "execute_result"
    }
   ],
   "source": [
    "# Filter out companies with a parent as the parent will be publicly listed.\n",
    "companies_no_child_df = companies_df[~companies_df.parent.notnull()]\n",
    "companies_no_child_df.head()\n",
    "companies_no_child_df.shape[0]"
   ]
  },
  {
   "cell_type": "code",
   "execution_count": 52,
   "metadata": {},
   "outputs": [
    {
     "name": "stdout",
     "output_type": "stream",
     "text": [
      "493\n"
     ]
    },
    {
     "data": {
      "text/plain": [
       "1        1.0\n",
       "2       26.0\n",
       "4      139.0\n",
       "5    13016.0\n",
       "8      245.0\n",
       "Name: parent, dtype: float64"
      ]
     },
     "execution_count": 52,
     "metadata": {},
     "output_type": "execute_result"
    }
   ],
   "source": [
    "# Get a dataframe of parent companies.\n",
    "parent_ids = companies_df.parent.dropna()\n",
    "print(parent_ids.shape[0])\n",
    "parent_ids.head()"
   ]
  },
  {
   "attachments": {},
   "cell_type": "markdown",
   "metadata": {},
   "source": [
    "493 parent companies. These are the most likely to be publicly traded."
   ]
  },
  {
   "cell_type": "code",
   "execution_count": 55,
   "metadata": {},
   "outputs": [
    {
     "data": {
      "text/html": [
       "<div>\n",
       "<style scoped>\n",
       "    .dataframe tbody tr th:only-of-type {\n",
       "        vertical-align: middle;\n",
       "    }\n",
       "\n",
       "    .dataframe tbody tr th {\n",
       "        vertical-align: top;\n",
       "    }\n",
       "\n",
       "    .dataframe thead th {\n",
       "        text-align: right;\n",
       "    }\n",
       "</style>\n",
       "<table border=\"1\" class=\"dataframe\">\n",
       "  <thead>\n",
       "    <tr style=\"text-align: right;\">\n",
       "      <th></th>\n",
       "      <th>Unnamed: 0</th>\n",
       "      <th>id</th>\n",
       "      <th>name</th>\n",
       "      <th>start_date</th>\n",
       "      <th>changed_company_id</th>\n",
       "      <th>parent</th>\n",
       "      <th>change_date</th>\n",
       "    </tr>\n",
       "  </thead>\n",
       "  <tbody>\n",
       "    <tr>\n",
       "      <th>0</th>\n",
       "      <td>0</td>\n",
       "      <td>1</td>\n",
       "      <td>Electronic Arts</td>\n",
       "      <td>3.913920e+08</td>\n",
       "      <td>5.0</td>\n",
       "      <td>NaN</td>\n",
       "      <td>NaN</td>\n",
       "    </tr>\n",
       "    <tr>\n",
       "      <th>1</th>\n",
       "      <td>1</td>\n",
       "      <td>2</td>\n",
       "      <td>BioWare</td>\n",
       "      <td>7.915968e+08</td>\n",
       "      <td>NaN</td>\n",
       "      <td>1.0</td>\n",
       "      <td>NaN</td>\n",
       "    </tr>\n",
       "    <tr>\n",
       "      <th>4</th>\n",
       "      <td>4</td>\n",
       "      <td>8</td>\n",
       "      <td>2K Games</td>\n",
       "      <td>1.106611e+09</td>\n",
       "      <td>NaN</td>\n",
       "      <td>139.0</td>\n",
       "      <td>NaN</td>\n",
       "    </tr>\n",
       "    <tr>\n",
       "      <th>11</th>\n",
       "      <td>11</td>\n",
       "      <td>26</td>\n",
       "      <td>Square Enix</td>\n",
       "      <td>1.049155e+09</td>\n",
       "      <td>NaN</td>\n",
       "      <td>NaN</td>\n",
       "      <td>NaN</td>\n",
       "    </tr>\n",
       "    <tr>\n",
       "      <th>17</th>\n",
       "      <td>17</td>\n",
       "      <td>41</td>\n",
       "      <td>Riot Games</td>\n",
       "      <td>1.156982e+09</td>\n",
       "      <td>NaN</td>\n",
       "      <td>3595.0</td>\n",
       "      <td>NaN</td>\n",
       "    </tr>\n",
       "  </tbody>\n",
       "</table>\n",
       "</div>"
      ],
      "text/plain": [
       "    Unnamed: 0  id             name    start_date  changed_company_id  parent   \n",
       "0            0   1  Electronic Arts  3.913920e+08                 5.0     NaN  \\\n",
       "1            1   2          BioWare  7.915968e+08                 NaN     1.0   \n",
       "4            4   8         2K Games  1.106611e+09                 NaN   139.0   \n",
       "11          11  26      Square Enix  1.049155e+09                 NaN     NaN   \n",
       "17          17  41       Riot Games  1.156982e+09                 NaN  3595.0   \n",
       "\n",
       "    change_date  \n",
       "0           NaN  \n",
       "1           NaN  \n",
       "4           NaN  \n",
       "11          NaN  \n",
       "17          NaN  "
      ]
     },
     "execution_count": 55,
     "metadata": {},
     "output_type": "execute_result"
    }
   ],
   "source": [
    "companies_parents_df = companies_df[companies_df.id.isin(parent_ids)]\n",
    "companies_parents_df.head()"
   ]
  },
  {
   "cell_type": "code",
   "execution_count": null,
   "metadata": {},
   "outputs": [],
   "source": []
  }
 ],
 "metadata": {
  "kernelspec": {
   "display_name": "venv-thesis",
   "language": "python",
   "name": "python3"
  },
  "language_info": {
   "codemirror_mode": {
    "name": "ipython",
    "version": 3
   },
   "file_extension": ".py",
   "mimetype": "text/x-python",
   "name": "python",
   "nbconvert_exporter": "python",
   "pygments_lexer": "ipython3",
   "version": "3.11.1"
  },
  "orig_nbformat": 4
 },
 "nbformat": 4,
 "nbformat_minor": 2
}
